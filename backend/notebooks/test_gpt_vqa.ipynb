{
 "cells": [
  {
   "cell_type": "code",
   "execution_count": 1,
   "id": "263f59f8-8b0d-402c-9c4c-d6e29b7b4ee9",
   "metadata": {},
   "outputs": [],
   "source": [
    "import openai\n",
    "import os"
   ]
  },
  {
   "cell_type": "code",
   "execution_count": 2,
   "id": "fa1d0c19-375c-4831-b654-89672baa8c56",
   "metadata": {},
   "outputs": [],
   "source": [
    "image_url = \"https://gist.github.com/baueraj/574afc2ce3526c6946005c4834acf561\""
   ]
  },
  {
   "cell_type": "code",
   "execution_count": 3,
   "id": "08dd7e57-e72e-4034-8248-06e98f8c9b57",
   "metadata": {},
   "outputs": [
    {
     "name": "stdout",
     "output_type": "stream",
     "text": [
      "As an AI text-based model, I'm currently unable to process or interpret image data such as facial expressions. I would recommend trying to use an AI model that has specifically been trained to analyze and interpret images.\n"
     ]
    }
   ],
   "source": [
    "openai.api_key = os.environ.get(\"OPENAI_API_KEY\")\n",
    "\n",
    "prompt = f\"\"\"\n",
    "Classify the emotion expressed by the face in the following image (see image URL): {image_url}. \n",
    "Possible labels are: happy, sad, angry, surprised, and neutral.\"\"\"\n",
    "\n",
    "response = openai.ChatCompletion.create(\n",
    "   model=\"gpt-4\",\n",
    "   messages=[{\"role\": \"user\", \"content\": prompt}]\n",
    ")\n",
    "\n",
    "print(response[\"choices\"][0][\"message\"][\"content\"])"
   ]
  },
  {
   "cell_type": "code",
   "execution_count": 13,
   "id": "5b2ff2d0-2865-4aa6-afad-66409e0d5a41",
   "metadata": {},
   "outputs": [
    {
     "name": "stderr",
     "output_type": "stream",
     "text": [
      "No model was supplied, defaulted to dandelin/vilt-b32-finetuned-vqa and revision 4355f59 (https://huggingface.co/dandelin/vilt-b32-finetuned-vqa).\n",
      "Using a pipeline without specifying a model name and revision in production is not recommended.\n",
      "Could not find image processor class in the image processor config or the model config. Loading based on pattern matching with the model's feature extractor configuration.\n"
     ]
    },
    {
     "data": {
      "text/plain": [
       "[{'score': 0.43848666548728943, 'answer': 'sad'},\n",
       " {'score': 0.11650688946247101, 'answer': 'happiness'},\n",
       " {'score': 0.0845256820321083, 'answer': 'smile'},\n",
       " {'score': 0.08223100006580353, 'answer': 'happy'},\n",
       " {'score': 0.051589105278253555, 'answer': 'serious'}]"
      ]
     },
     "execution_count": 13,
     "metadata": {},
     "output_type": "execute_result"
    }
   ],
   "source": [
    "from PIL import Image\n",
    "from transformers import pipeline\n",
    "\n",
    "vqa_pipeline = pipeline(\"visual-question-answering\", framework=\"pt\")\n",
    "\n",
    "# Anger\n",
    "image =  Image.open(\"/home/abauer/other_projects/shopmood/backend/db/images/1000_F_60587854_dm0AgQ2xWPRRnsZeNubLM9yY5omv2TxV.jpg\")\n",
    "# Happiness (me)\n",
    "# image =  Image.open(\"/home/abauer/other_projects/shopmood/backend/db/images/20230801_222322.jpg\")\n",
    "# Anger (kinda) (me)\n",
    "# image =  Image.open(\"/home/abauer/other_projects/shopmood/backend/db/images/20230803_004106_resized.jpg\")\n",
    "# Next three are angry\n",
    "image =  Image.open(\"/home/abauer/other_projects/shopmood/backend/db/images/angryGerardButler.jpg\")\n",
    "image =  Image.open(\"/home/abauer/other_projects/shopmood/backend/db/images/angry(woman)2.jpg\")\n",
    "# image =  Image.open(\"/home/abauer/other_projects/shopmood/backend/db/images/angry(woman)3.jpg\")\n",
    "\n",
    "question = \"What emotion is being expressed in this face?\"\n",
    "# question = \"What sex is this face of?\"\n",
    "# question = \"Is a happy expression being expressed in this face?\"\n",
    "\n",
    "vqa_pipeline(image, question, top_k=5)\n",
    "#[{'score': 0.9998154044151306, 'answer': 'yes'}]\n"
   ]
  },
  {
   "cell_type": "code",
   "execution_count": null,
   "id": "2e699cb7-adf7-48fd-b231-5e0fafb727f8",
   "metadata": {},
   "outputs": [],
   "source": []
  }
 ],
 "metadata": {
  "kernelspec": {
   "display_name": "Python 3 (ipykernel)",
   "language": "python",
   "name": "python3"
  },
  "language_info": {
   "codemirror_mode": {
    "name": "ipython",
    "version": 3
   },
   "file_extension": ".py",
   "mimetype": "text/x-python",
   "name": "python",
   "nbconvert_exporter": "python",
   "pygments_lexer": "ipython3",
   "version": "3.9.9"
  }
 },
 "nbformat": 4,
 "nbformat_minor": 5
}
